{
 "cells": [
  {
   "cell_type": "code",
   "execution_count": null,
   "id": "7cfa43f7-9b6d-4685-9b9b-ee199d66b58d",
   "metadata": {},
   "outputs": [],
   "source": []
  }
 ],
 "metadata": {
  "kernelspec": {
   "display_name": "",
   "name": ""
  },
  "language_info": {
   "name": ""
  }
 },
 "nbformat": 4,
 "nbformat_minor": 5
}
